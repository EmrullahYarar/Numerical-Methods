{
 "cells": [
  {
   "cell_type": "code",
   "execution_count": 1,
   "id": "d61c8641-281a-4d93-861d-8c56b4116552",
   "metadata": {},
   "outputs": [],
   "source": [
    "#2021513064_EmrullahYarar_19.03.2024"
   ]
  },
  {
   "cell_type": "code",
   "execution_count": 2,
   "id": "654569f3-a8a1-4c96-9224-837ecbeff6a3",
   "metadata": {},
   "outputs": [],
   "source": [
    "import matplotlib.pyplot as plt\n",
    "import math\n",
    "import numpy as np"
   ]
  },
  {
   "cell_type": "code",
   "execution_count": 5,
   "id": "52417b78-0bd5-481c-953c-4b31fba4b5a3",
   "metadata": {},
   "outputs": [],
   "source": [
    "def g(x):\n",
    "    return math.cos(x) - math.sin(x) - x**(-0.5)"
   ]
  },
  {
   "cell_type": "code",
   "execution_count": 6,
   "id": "2a9f2c3b-f5c1-4471-ad13-8260cf697446",
   "metadata": {},
   "outputs": [
    {
     "data": {
      "text/plain": [
       "0.7953728646264069"
      ]
     },
     "execution_count": 6,
     "metadata": {},
     "output_type": "execute_result"
    }
   ],
   "source": [
    "g(5)"
   ]
  },
  {
   "cell_type": "code",
   "execution_count": 13,
   "id": "fc87a6b8-b598-4516-ad0b-aa0069db323b",
   "metadata": {},
   "outputs": [
    {
     "name": "stderr",
     "output_type": "stream",
     "text": [
      "/tmp/ipykernel_2954/2386417401.py:2: RuntimeWarning: invalid value encountered in scalar power\n",
      "  return math.cos(x) - math.sin(x) - x**(-0.5)\n"
     ]
    },
    {
     "data": {
      "text/plain": [
       "[<matplotlib.lines.Line2D at 0x750383f63010>]"
      ]
     },
     "execution_count": 13,
     "metadata": {},
     "output_type": "execute_result"
    },
    {
     "data": {
      "image/png": "[encoded data removed]",
      "text/plain": [
       "<Figure size 640x480 with 1 Axes>"
      ]
     },
     "metadata": {},
     "output_type": "display_data"
    }
   ],
   "source": [
    "xval = [x for x in np.linspace(-10, 10, 100)]\n",
    "yval = [g(x) for x in np.linspace(-10, 10, 100)]\n",
    "plt.plot(xval, yval, 'kx')\n",
    "plt.plot(xval, yval, 'b')"
   ]
  },
  {
   "cell_type": "code",
   "execution_count": 31,
   "id": "c844d3b0-54f1-4c1e-a50e-ea9a174c07ed",
   "metadata": {},
   "outputs": [],
   "source": [
    "def bisect(xl, xh, func, numiter):\n",
    "    estimates = []\n",
    "    for i in range(numiter):\n",
    "        xr = (xl+xh)/2\n",
    "        estimates.append(xr)\n",
    "        if (func(xl) * func(xr) < 0):\n",
    "            xh = xr\n",
    "        else:\n",
    "            xl = xr\n",
    "    return estimates"
   ]
  },
  {
   "cell_type": "code",
   "execution_count": 38,
   "id": "345129a0-b38a-4f5d-87d8-a1fa093aa228",
   "metadata": {},
   "outputs": [
    {
     "data": {
      "text/plain": [
       "[6.5,\n",
       " 6.75,\n",
       " 6.875,\n",
       " 6.8125,\n",
       " 6.78125,\n",
       " 6.796875,\n",
       " 6.7890625,\n",
       " 6.79296875,\n",
       " 6.794921875,\n",
       " 6.7939453125,\n",
       " 6.79345703125,\n",
       " 6.793701171875,\n",
       " 6.7938232421875,\n",
       " 6.79388427734375,\n",
       " 6.793853759765625,\n",
       " 6.7938690185546875,\n",
       " 6.793861389160156,\n",
       " 6.793857574462891,\n",
       " 6.793855667114258,\n",
       " 6.793854713439941,\n",
       " 6.7938551902771,\n",
       " 6.7938549518585205,\n",
       " 6.793854832649231,\n",
       " 6.793854892253876,\n",
       " 6.793854922056198,\n",
       " 6.793854907155037,\n",
       " 6.7938549146056175,\n",
       " 6.793854918330908,\n",
       " 6.793854916468263,\n",
       " 6.793854917399585,\n",
       " 6.7938549178652465,\n",
       " 6.793854918098077,\n",
       " 6.7938549182144925,\n",
       " 6.7938549182727,\n",
       " 6.793854918301804,\n",
       " 6.793854918287252,\n",
       " 6.793854918279976,\n",
       " 6.793854918276338,\n",
       " 6.793854918274519,\n",
       " 6.79385491827361,\n",
       " 6.793854918274064,\n",
       " 6.793854918273837,\n",
       " 6.793854918273951,\n",
       " 6.793854918273894,\n",
       " 6.7938549182738655,\n",
       " 6.793854918273851,\n",
       " 6.793854918273858,\n",
       " 6.793854918273862,\n",
       " 6.793854918273864,\n",
       " 6.793854918273865,\n",
       " 6.793854918273864,\n",
       " 6.793854918273864,\n",
       " 6.793854918273864,\n",
       " 6.793854918273864,\n",
       " 6.793854918273864]"
      ]
     },
     "execution_count": 38,
     "metadata": {},
     "output_type": "execute_result"
    }
   ],
   "source": [
    "bisect(6, 7, g, 55)"
   ]
  },
  {
   "cell_type": "code",
   "execution_count": 45,
   "id": "98647ea9-9d5c-4b47-a07b-d45734ed5d2d",
   "metadata": {},
   "outputs": [],
   "source": [
    "def false_position(xl, xh, func, numiter):\n",
    "    estimates = []\n",
    "    for i in range(numiter):\n",
    "        xr = (xl*func(xh) - xh*func(xl)) / (func(xh)-func(xl))\n",
    "        estimates.append(xr)\n",
    "        if(func(xl)*func(xr) < 0):\n",
    "            xh = xr\n",
    "        else:\n",
    "            xl = xr\n",
    "    return estimates"
   ]
  },
  {
   "cell_type": "code",
   "execution_count": 46,
   "id": "5cbb6c1c-57dd-4698-a35b-03d9f873793e",
   "metadata": {},
   "outputs": [
    {
     "data": {
      "text/plain": [
       "[6.747346030411433,\n",
       " 6.792736428905504,\n",
       " 6.79382992268514,\n",
       " 6.793854360698526,\n",
       " 6.793854905836565,\n",
       " 6.793854917996437,\n",
       " 6.793854918267676,\n",
       " 6.793854918273726,\n",
       " 6.79385491827386,\n",
       " 6.793854918273864]"
      ]
     },
     "execution_count": 46,
     "metadata": {},
     "output_type": "execute_result"
    }
   ],
   "source": [
    "false_position(6, 7, g, 10)"
   ]
  },
  {
   "cell_type": "code",
   "execution_count": 54,
   "id": "742b5912-37e3-4f11-898d-16b8eced11ae",
   "metadata": {},
   "outputs": [],
   "source": [
    "vals = false_position(6, 7, g, 10)\n",
    "def app_err(xp, xc):\n",
    "    return np.abs((xp - xc)/xc)"
   ]
  },
  {
   "cell_type": "code",
   "execution_count": 55,
   "id": "3f341aa4-fa8d-4814-a6bd-e32dc0780952",
   "metadata": {},
   "outputs": [
    {
     "name": "stdout",
     "output_type": "stream",
     "text": [
      "0.006682196338565213\n",
      "0.00016095395264245312\n",
      "3.597076429358612e-06\n",
      "8.023987075877775e-08\n",
      "1.7898338246616076e-09\n",
      "3.9924171843302104e-11\n",
      "8.905505736844005e-13\n",
      "1.9740624871747187e-14\n",
      "5.229304601787331e-16\n"
     ]
    }
   ],
   "source": [
    "for i in range(len(vals)-1):\n",
    "    print(app_err(vals[i], vals[i+1]))"
   ]
  },
  {
   "cell_type": "code",
   "execution_count": null,
   "id": "ec6d9388-5c63-4a5f-8a4a-89a9890ef1cf",
   "metadata": {},
   "outputs": [],
   "source": []
  }
 ],
 "metadata": {
  "kernelspec": {
   "display_name": "Python 3 (ipykernel)",
   "language": "python",
   "name": "python3"
  },
  "language_info": {
   "codemirror_mode": {
    "name": "ipython",
    "version": 3
   },
   "file_extension": ".py",
   "mimetype": "text/x-python",
   "name": "python",
   "nbconvert_exporter": "python",
   "pygments_lexer": "ipython3",
   "version": "3.11.7"
  }
 },
 "nbformat": 4,
 "nbformat_minor": 5
}
