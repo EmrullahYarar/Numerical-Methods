{
 "cells": [
  {
   "cell_type": "code",
   "execution_count": 6,
   "id": "80a0efc8-0249-415c-8355-18bc4871cb89",
   "metadata": {},
   "outputs": [],
   "source": [
    "#2021513064_EmrullahYarar_26.03.2024_Lab5"
   ]
  },
  {
   "cell_type": "code",
   "execution_count": 7,
   "id": "439036ad-dbfc-47fa-9210-9736276401be",
   "metadata": {},
   "outputs": [],
   "source": [
    "import math\n",
    "import numpy as np"
   ]
  },
  {
   "cell_type": "code",
   "execution_count": 8,
   "id": "399cc710-4f1a-4560-bacf-01d8df569715",
   "metadata": {},
   "outputs": [],
   "source": [
    "def f(x):\n",
    "    return (x**2)/10-2*math.sin(x)"
   ]
  },
  {
   "cell_type": "code",
   "execution_count": 9,
   "id": "34101547-8153-4148-9849-af7f268933a1",
   "metadata": {},
   "outputs": [
    {
     "data": {
      "text/plain": [
       "0.9827746941670265"
      ]
     },
     "execution_count": 9,
     "metadata": {},
     "output_type": "execute_result"
    }
   ],
   "source": [
    "f(3.14)"
   ]
  },
  {
   "cell_type": "code",
   "execution_count": 19,
   "id": "31d87724-58fa-419b-a983-e263f464bc5b",
   "metadata": {},
   "outputs": [],
   "source": [
    "def goldmin(f, xl, xu, es, imax):\n",
    "    phi=(math.sqrt(5)+1)/2;\n",
    "    iter=0;\n",
    "    while True:\n",
    "        d = (phi-1)*(xu-xl)\n",
    "        x1 = xl+d\n",
    "        x2 = xu-d\n",
    "        if f(x1)<f(x2):\n",
    "            xopt = x1\n",
    "            xl = x2\n",
    "        else:\n",
    "            xopt = x2\n",
    "            xu = x1\n",
    "        iter = iter+1\n",
    "        if xopt !=0:\n",
    "            ea=(2-phi)*abs((xu-xl)/xopt)*100\n",
    "        if (ea<es or iter>=imax):\n",
    "            break\n",
    "    return xopt           \n",
    "                     \n",
    "        "
   ]
  },
  {
   "cell_type": "code",
   "execution_count": 20,
   "id": "c0d36617-9857-40f9-84c7-1ebcc30673b2",
   "metadata": {},
   "outputs": [
    {
     "data": {
      "text/plain": [
       "1.427551339027571"
      ]
     },
     "execution_count": 20,
     "metadata": {},
     "output_type": "execute_result"
    }
   ],
   "source": [
    "goldmin(f, 0, 4, 0.0001, 50)"
   ]
  }
 ],
 "metadata": {
  "kernelspec": {
   "display_name": "Python 3 (ipykernel)",
   "language": "python",
   "name": "python3"
  },
  "language_info": {
   "codemirror_mode": {
    "name": "ipython",
    "version": 3
   },
   "file_extension": ".py",
   "mimetype": "text/x-python",
   "name": "python",
   "nbconvert_exporter": "python",
   "pygments_lexer": "ipython3",
   "version": "3.11.7"
  }
 },
 "nbformat": 4,
 "nbformat_minor": 5
}
