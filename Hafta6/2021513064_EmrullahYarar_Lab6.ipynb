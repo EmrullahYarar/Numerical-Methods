{
 "cells": [
  {
   "cell_type": "code",
   "execution_count": 22,
   "id": "b8609aeb-b4c5-4532-a3dd-4e260712a078",
   "metadata": {},
   "outputs": [],
   "source": [
    "#EmrullahYarar_2021513064_16.04.2024_Lab6"
   ]
  },
  {
   "cell_type": "code",
   "execution_count": 3,
   "id": "14971070-f7e7-4130-b833-fdc11a5aa981",
   "metadata": {},
   "outputs": [],
   "source": [
    "import numpy as np"
   ]
  },
  {
   "cell_type": "code",
   "execution_count": 4,
   "id": "211d7dca-e894-4463-826d-11cc3c2acf3e",
   "metadata": {},
   "outputs": [
    {
     "name": "stdout",
     "output_type": "stream",
     "text": [
      "[[  3.5    0.    -0.2    5.65]\n",
      " [  0.15 -75.08  -4.3    1.  ]\n",
      " [  0.    -0.2   11.    71.4 ]]\n"
     ]
    }
   ],
   "source": [
    "B = [[3.5, 0, -0.2], [0.15, -75.08, -4.3], [0, -0.2, 11.0]]\n",
    "C = [[5.65], [1], [71.4]]\n",
    "D1 = np.concatenate ((B, C), axis = 1)\n",
    "print(D1)"
   ]
  },
  {
   "cell_type": "code",
   "execution_count": 5,
   "id": "1e3bb704-35d0-428e-abd8-95095c944e01",
   "metadata": {},
   "outputs": [
    {
     "name": "stdout",
     "output_type": "stream",
     "text": [
      "[[  3.5    0.    -0.2 ]\n",
      " [  0.15 -75.08  -4.3 ]\n",
      " [  0.    -0.2   11.  ]\n",
      " [  5.65   1.    71.4 ]]\n"
     ]
    }
   ],
   "source": [
    "D = [[3.5, 0, -0.2], [0.15, -75.08, -4.3], [0, -0.2, 11.0]]\n",
    "E = [[5.65, 1, 71.4]]\n",
    "D2 = np.concatenate ((D, E), axis = 0)\n",
    "print(D2)"
   ]
  },
  {
   "cell_type": "code",
   "execution_count": 6,
   "id": "50623298-9549-4d7f-84d6-6a69508e8d4f",
   "metadata": {},
   "outputs": [
    {
     "name": "stdout",
     "output_type": "stream",
     "text": [
      "[  3.5    0.    -0.2    0.15 -75.08  -4.3    0.    -0.2   11.     5.65\n",
      "   1.    71.4 ]\n"
     ]
    }
   ],
   "source": [
    "D = [[3.5, 0, -0.2], [0.15, -75.08, -4.3], [0, -0.2, 11.0]]\n",
    "E = [[5.65, 1, 71.4]]\n",
    "D3 = np.concatenate ((D, E), axis = None)\n",
    "print(D3)"
   ]
  },
  {
   "cell_type": "code",
   "execution_count": 7,
   "id": "6b826ede-7c7b-477e-a092-562448f0e3ca",
   "metadata": {},
   "outputs": [],
   "source": [
    "#A = coefficient matrix, it must be a square matrix\n",
    "#b = right hand side vector\n",
    "#x = solution error\n",
    "\n",
    "def GaussNaive(A,b):\n",
    "    A = np.matrix(A)\n",
    "    b = np.matrix(b)\n",
    "    m,n = A.shape\n",
    "\n",
    "    if m != n:\n",
    "        print('Matrix A should be square matrix')\n",
    "        return\n",
    "\n",
    "    Aug = np.concatenate((A,b), axis = 1)\n",
    "    #print(\"Aug_1=,Aug)\n",
    "\n",
    "#forward elimination\n",
    "    for k in range (n):\n",
    "        for i in range (k+1, n):\n",
    "            factor = Aug[i,k] / Aug[k,k]\n",
    "            Aug[i, k:] = Aug[i, k:] - factor * Aug[k, k:]\n",
    "    print('U=', Aug)\n",
    "\n",
    "#backward elimination\n",
    "    x = np.zeros((n, 1))\n",
    "    x[n-1] = Aug[n-1, n] / Aug[n-1, n-1]\n",
    "    for i in range (n-1 , 1, -1):\n",
    "        x[i] = (Aug[i, n] - np.dot(Aug[i, i+1:n], x[i+1:n])) / Aug[i, i]\n",
    "    print(\"x=\", Aug[:, -1])\n",
    "            "
   ]
  },
  {
   "cell_type": "code",
   "execution_count": 8,
   "id": "b0e76d07-fa4a-47d0-901f-050b169aa87e",
   "metadata": {},
   "outputs": [
    {
     "name": "stdout",
     "output_type": "stream",
     "text": [
      "U= [[ 3.         -0.1        -0.2         7.85      ]\n",
      " [ 0.          7.00333333 -0.29333333 19.03833333]\n",
      " [ 0.          0.         10.01204188 71.13150881]]\n",
      "x= [[ 7.85      ]\n",
      " [19.03833333]\n",
      " [71.13150881]]\n"
     ]
    }
   ],
   "source": [
    "A = [[3, -0.1, -0.2], [0.1, 7.0, -0.3], [0.3, -0.2, 10.0]]\n",
    "b = [[7.85], [19.3], [71.4]]\n",
    "GaussNaive(A, b)"
   ]
  }
 ],
 "metadata": {
  "kernelspec": {
   "display_name": "Python 3 (ipykernel)",
   "language": "python",
   "name": "python3"
  },
  "language_info": {
   "codemirror_mode": {
    "name": "ipython",
    "version": 3
   },
   "file_extension": ".py",
   "mimetype": "text/x-python",
   "name": "python",
   "nbconvert_exporter": "python",
   "pygments_lexer": "ipython3",
   "version": "3.11.7"
  }
 },
 "nbformat": 4,
 "nbformat_minor": 5
}
