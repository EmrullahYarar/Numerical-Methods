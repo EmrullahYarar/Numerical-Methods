{
 "cells": [
  {
   "cell_type": "code",
   "execution_count": 8,
   "id": "980917c0-04fb-43de-8e1b-b552c3029db0",
   "metadata": {},
   "outputs": [],
   "source": [
    "import numpy as np\n",
    "\n",
    "#A = coefficient matrix\n",
    "#b = left hand side vector\n",
    "#es = stop criterion (default = 0.001%)\n",
    "#maxit = max iterations (default = 50)\n",
    "\n",
    "def GaussSeidel(A, b, es=0.001, maxit=50):\n",
    "    m, n = A.shape\n",
    "    if m != n:\n",
    "        print(\"Matrix should be square\")\n",
    "        return\n",
    "    x = np.zeros((m,)) #solution vector\n",
    "    d = np.zeros((m,))\n",
    "    C = A\n",
    "    Ad = np.array(A.diagonal()) # diagonal elements of A\n",
    "\n",
    "    temp1 = np.abs(Ad)\n",
    "    temp2 = np.abs(A).sum(axis = 1)\n",
    "\n",
    "    ### write code to check for the convergence formula given\n",
    "    #complete here\n",
    "\n",
    "    #if test:\n",
    "        # print(\"Solution is guranteed to convergence !\")\n",
    "    test = np.max(temp1/temp2) < 1\n",
    "    if test:\n",
    "        print(\"Solution is guaranteed to converge!\")\n",
    "\n",
    "    for i in range(n):\n",
    "        C[i,:] = C[i,:]/Ad[i] #divide each row i by Aii\n",
    "\n",
    "    for i in range(n):\n",
    "        C[i,i] = 0 #set diagonal elements to zero\n",
    "\n",
    "    for i in range(n):\n",
    "        d[i] = b[i]/Ad[i] #divide b by diagonal elements\n",
    "\n",
    "    ea = np.zeros((m,))\n",
    "    iter = 0\n",
    "\n",
    "    while True:\n",
    "\n",
    "        xold = x\n",
    "        x = d- np.dot(C, x)\n",
    "        ea = np.abs((x- xold)/x)*100 #approximate error value\n",
    "        iter = iter+1\n",
    "\n",
    "        #if any of these conditions satisfied stop\n",
    "        #complete here\n",
    "        \n",
    "        if np.max(ea) <= es or iter >= maxit:\n",
    "            break\n",
    "\n",
    "    if iter >= maxit:\n",
    "        print(\"Maximum iterations reached without convergence.\")\n",
    "\n",
    "    return x"
   ]
  },
  {
   "cell_type": "code",
   "execution_count": 10,
   "id": "66e998b8-ae2c-4b6a-bbd5-ef5c8d11ab34",
   "metadata": {},
   "outputs": [
    {
     "name": "stdout",
     "output_type": "stream",
     "text": [
      "Solution is guaranteed to converge!\n",
      "Maximum iterations reached without convergence.\n"
     ]
    },
    {
     "name": "stderr",
     "output_type": "stream",
     "text": [
      "/tmp/ipykernel_5899/2368906362.py:37: DeprecationWarning: Conversion of an array with ndim > 0 to a scalar is deprecated, and will error in future. Ensure you extract a single element from your array before performing this operation. (Deprecated NumPy 1.25.)\n",
      "  d[i] = b[i]/Ad[i] #divide b by diagonal elements\n"
     ]
    },
    {
     "data": {
      "text/plain": [
       "array([-4.77916826e+27, -7.83348350e+26, -2.84635863e+27])"
      ]
     },
     "execution_count": 10,
     "metadata": {},
     "output_type": "execute_result"
    }
   ],
   "source": [
    "A=np.array([[1,4,5],[7,8,9],[7,5,3]])\n",
    "b=np.array([[4], [2], [1]])\n",
    "\n",
    "GaussSeidel(A, b)"
   ]
  }
 ],
 "metadata": {
  "kernelspec": {
   "display_name": "Python 3 (ipykernel)",
   "language": "python",
   "name": "python3"
  },
  "language_info": {
   "codemirror_mode": {
    "name": "ipython",
    "version": 3
   },
   "file_extension": ".py",
   "mimetype": "text/x-python",
   "name": "python",
   "nbconvert_exporter": "python",
   "pygments_lexer": "ipython3",
   "version": "3.11.7"
  }
 },
 "nbformat": 4,
 "nbformat_minor": 5
}
